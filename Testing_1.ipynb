{
  "nbformat": 4,
  "nbformat_minor": 0,
  "metadata": {
    "colab": {
      "name": "Untitled1.ipynb",
      "provenance": [],
      "authorship_tag": "ABX9TyO4e0pd43Db8PUs4pcA/GI/",
      "include_colab_link": true
    },
    "kernelspec": {
      "name": "ir",
      "display_name": "R"
    },
    "language_info": {
      "name": "R"
    }
  },
  "cells": [
    {
      "cell_type": "markdown",
      "metadata": {
        "id": "view-in-github",
        "colab_type": "text"
      },
      "source": [
        "<a href=\"https://colab.research.google.com/github/ajkirkpatrick/EC420MSU/blob/main/Testing_1.ipynb\" target=\"_parent\"><img src=\"https://colab.research.google.com/assets/colab-badge.svg\" alt=\"Open In Colab\"/></a>"
      ]
    },
    {
      "cell_type": "code",
      "execution_count": 17,
      "metadata": {
        "colab": {
          "base_uri": "https://localhost:8080/",
          "height": 86
        },
        "id": "UXXAurUkuRM5",
        "outputId": "e8cad99b-2332-41fd-aec6-b5321d03015a"
      },
      "outputs": [
        {
          "output_type": "display_data",
          "data": {
            "text/plain": [
              "[1] 4"
            ],
            "text/latex": "4",
            "text/markdown": "4",
            "text/html": [
              "4"
            ]
          },
          "metadata": {}
        },
        {
          "output_type": "display_data",
          "data": {
            "text/plain": [
              "[1] 23.3"
            ],
            "text/latex": "23.3",
            "text/markdown": "23.3",
            "text/html": [
              "23.3"
            ]
          },
          "metadata": {}
        },
        {
          "output_type": "display_data",
          "data": {
            "text/plain": [
              "[1] 15.9"
            ],
            "text/latex": "15.9",
            "text/markdown": "15.9",
            "text/html": [
              "15.9"
            ]
          },
          "metadata": {}
        },
        {
          "output_type": "display_data",
          "data": {
            "text/plain": [
              "[1] 4.512"
            ],
            "text/latex": "4.512",
            "text/markdown": "4.512",
            "text/html": [
              "4.512"
            ]
          },
          "metadata": {}
        }
      ],
      "source": [
        "\n",
        "library(ggplot2)\n",
        "library(wooldridge)\n",
        "library(lmtest)\n",
        "library(sandwich)\n",
        "library(purrr)\n",
        "\n",
        "set.seed(024)\n",
        "tau = 4\n",
        "N = 500\n",
        "\n",
        "df = data.frame(hID = 1:N,\n",
        "                type = as.integer(rbernoulli(n = N, p=.25)))\n",
        "\n",
        "df$consWithout = rpois(N, lambda = 20+8*df$type)\n",
        "df$consWith = rpois(N, lambda = 20 - tau + 8*df$type)\n",
        "\n",
        "## Questions\n",
        "## (a) (1 point)\n",
        "ncol(df)\n",
        "\n",
        "## (b) (2 points)\n",
        "round(mean(df$consWith[df$type==1]),1)\n",
        "round(mean(df$consWith[df$type==0]),1)\n",
        "\n",
        "## (c)\n",
        "df$diff = df$consWithout - df$consWith\n",
        "mean(df$diff)\n",
        "\n",
        "df = df[1:5,]\n",
        "\n",
        "\n",
        "\n"
      ]
    },
    {
      "cell_type": "code",
      "source": [
        "df = df[1:10,]"
      ],
      "metadata": {
        "id": "1-TtbFYcwWFt"
      },
      "execution_count": null,
      "outputs": []
    }
  ]
}